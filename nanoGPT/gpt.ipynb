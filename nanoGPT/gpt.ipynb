{
 "cells": [
  {
   "cell_type": "markdown",
   "id": "b0912b2e",
   "metadata": {},
   "source": [
    "### This notebook acts as an prototype in building the model Vocab"
   ]
  },
  {
   "cell_type": "code",
   "execution_count": 3,
   "id": "79dfff0c",
   "metadata": {},
   "outputs": [],
   "source": [
    "with open('input.txt', 'r') as f:\n",
    "    text = f.read()"
   ]
  },
  {
   "cell_type": "code",
   "execution_count": 2,
   "id": "1b915463",
   "metadata": {},
   "outputs": [
    {
     "name": "stdout",
     "output_type": "stream",
     "text": [
      "len of the dataset in a characters:  1115393\n"
     ]
    }
   ],
   "source": [
    "print(\"len of the dataset in a characters: \", len(text))"
   ]
  },
  {
   "cell_type": "code",
   "execution_count": 10,
   "id": "c44c01e2",
   "metadata": {},
   "outputs": [
    {
     "name": "stdout",
     "output_type": "stream",
     "text": [
      "First Citizen:\n",
      "Before we proceed any further, hear me speak.\n",
      "\n",
      "All:\n",
      "Speak, speak.\n",
      "\n",
      "First Citizen:\n",
      "You\n"
     ]
    }
   ],
   "source": [
    "print(text[:100])"
   ]
  },
  {
   "cell_type": "code",
   "execution_count": 5,
   "id": "6ec18f47",
   "metadata": {},
   "outputs": [
    {
     "name": "stdout",
     "output_type": "stream",
     "text": [
      "\n",
      " !$&',-.3:;?ABCDEFGHIJKLMNOPQRSTUVWXYZabcdefghijklmnopqrstuvwxyz\n",
      "65\n"
     ]
    }
   ],
   "source": [
    "chars = sorted(list(set(text)))\n",
    "vocab_size = len(chars)\n",
    "print(''.join(chars))\n",
    "print(vocab_size)"
   ]
  },
  {
   "cell_type": "markdown",
   "id": "ceb614a0",
   "metadata": {},
   "source": [
    "### Converting Raw text to sequence of Intergers"
   ]
  },
  {
   "cell_type": "code",
   "execution_count": null,
   "id": "197d33cb",
   "metadata": {},
   "outputs": [
    {
     "name": "stdout",
     "output_type": "stream",
     "text": [
      "[46, 47, 47, 1, 58, 46, 43, 56, 43]\n",
      "hii there\n"
     ]
    }
   ],
   "source": [
    "# create a mapping of characters to integers\n",
    "stoi = { ch:i for i, ch in enumerate(chars) } # string to integer\n",
    "itos = { i:ch for i, ch in enumerate(chars) } # integer to string\n",
    "\n",
    "encode = lambda s: [stoi[c] for c in s] # encoder : take a string, output a list of integer\n",
    "decode = lambda l: ''.join([itos[i] for i in l]) # decoder : take a list of integers, output a string\n",
    "\n",
    "print(encode(\"hii there\"))\n",
    "print(decode(encode(\"hii there\")))"
   ]
  },
  {
   "cell_type": "markdown",
   "id": "ce26d6e9",
   "metadata": {},
   "source": [
    "### Tokenization, train/val split"
   ]
  },
  {
   "cell_type": "code",
   "execution_count": 9,
   "id": "6b5727eb",
   "metadata": {},
   "outputs": [
    {
     "name": "stdout",
     "output_type": "stream",
     "text": [
      "torch.Size([1115393]) torch.int64\n",
      "tensor([18, 47, 56, 57, 58,  1, 15, 47, 58, 47, 64, 43, 52, 10,  0, 14, 43, 44,\n",
      "        53, 56, 43,  1, 61, 43,  1, 54, 56, 53, 41, 43, 43, 42,  1, 39, 52, 63,\n",
      "         1, 44, 59, 56, 58, 46, 43, 56,  6,  1, 46, 43, 39, 56,  1, 51, 43,  1,\n",
      "        57, 54, 43, 39, 49,  8,  0,  0, 13, 50, 50, 10,  0, 31, 54, 43, 39, 49,\n",
      "         6,  1, 57, 54, 43, 39, 49,  8,  0,  0, 18, 47, 56, 57, 58,  1, 15, 47,\n",
      "        58, 47, 64, 43, 52, 10,  0, 37, 53, 59])\n"
     ]
    }
   ],
   "source": [
    "import torch\n",
    "\n",
    "data = torch.tensor(encode(text), dtype=torch.long)\n",
    "print(data.shape, data.dtype)\n",
    "print(data[:100])"
   ]
  },
  {
   "cell_type": "code",
   "execution_count": 12,
   "id": "c867c98a",
   "metadata": {},
   "outputs": [],
   "source": [
    "# train and test splits:\n",
    "\n",
    "n = int(0.9 * len(data)) # first 90% will be train, rest 10% will be test\n",
    "train_data = data[:n]\n",
    "test_data = data[n:]"
   ]
  },
  {
   "cell_type": "code",
   "execution_count": 14,
   "id": "6d73b567",
   "metadata": {},
   "outputs": [
    {
     "data": {
      "text/plain": [
       "tensor([18, 47, 56, 57, 58,  1, 15, 47, 58])"
      ]
     },
     "execution_count": 14,
     "metadata": {},
     "output_type": "execute_result"
    }
   ],
   "source": [
    "block_size = 8\n",
    "train_data[:block_size + 1]\n"
   ]
  },
  {
   "cell_type": "code",
   "execution_count": null,
   "id": "0ebdba6a",
   "metadata": {},
   "outputs": [
    {
     "name": "stdout",
     "output_type": "stream",
     "text": [
      "when input is tensor([18]) the target is 47\n",
      "when input is tensor([18, 47]) the target is 56\n",
      "when input is tensor([18, 47, 56]) the target is 57\n",
      "when input is tensor([18, 47, 56, 57]) the target is 58\n",
      "when input is tensor([18, 47, 56, 57, 58]) the target is 1\n",
      "when input is tensor([18, 47, 56, 57, 58,  1]) the target is 15\n",
      "when input is tensor([18, 47, 56, 57, 58,  1, 15]) the target is 47\n",
      "when input is tensor([18, 47, 56, 57, 58,  1, 15, 47]) the target is 58\n"
     ]
    }
   ],
   "source": [
    "# this is a code to illustrate the concept of block size in a language model\n",
    "\n",
    "x = train_data[:block_size]\n",
    "y = train_data[1:block_size + 1]\n",
    "\n",
    "for t in range(block_size):\n",
    "    context = x[:t + 1]\n",
    "    target  = y[t]\n",
    "    print(f\"when input is {context} the target is {target}\")"
   ]
  },
  {
   "cell_type": "code",
   "execution_count": 44,
   "id": "88b89dbf",
   "metadata": {},
   "outputs": [
    {
     "name": "stdout",
     "output_type": "stream",
     "text": [
      "torch.Size([4, 8])\n",
      "tensor([[56, 41, 46,  1, 53,  5,  1, 58],\n",
      "        [14, 33, 15, 23, 21, 26, 19, 20],\n",
      "        [58, 46, 43, 56, 10,  0, 14, 59],\n",
      "        [47, 60, 43,  1, 51, 43,  1, 58]])\n",
      "torch.Size([4, 8])\n",
      "tensor([[41, 46,  1, 53,  5,  1, 58, 46],\n",
      "        [33, 15, 23, 21, 26, 19, 20, 13],\n",
      "        [46, 43, 56, 10,  0, 14, 59, 58],\n",
      "        [60, 43,  1, 51, 43,  1, 58, 46]])\n"
     ]
    }
   ],
   "source": [
    "torch.manual_seed(1337)\n",
    "batch_size = 4 # how many independent sequences will we process parallel???\n",
    "block_size = 8 # what is the maximum context length for predictions ???\n",
    "\n",
    "def get_batch(split):\n",
    "    # generate a small batch of data of inputs x and y targets:\n",
    "    data = train_data if split == \"train\" else test_data\n",
    "    ix = torch.randint(len(data) - block_size - 1, (batch_size,))\n",
    "    x = torch.stack([data[i : i+block_size] for i in ix])\n",
    "    y = torch.stack([data[i+1 : i+block_size+1] for i in ix])\n",
    "    \n",
    "    return x, y\n",
    "\n",
    "xb, yb = get_batch('train')\n",
    "print(xb.shape)\n",
    "print(xb)\n",
    "print(yb.shape)\n",
    "print(yb)"
   ]
  },
  {
   "cell_type": "code",
   "execution_count": 45,
   "id": "f10df13f",
   "metadata": {},
   "outputs": [
    {
     "name": "stdout",
     "output_type": "stream",
     "text": [
      "when i/p is [56] o/p is 41\n",
      "when i/p is [56, 41] o/p is 46\n",
      "when i/p is [56, 41, 46] o/p is 1\n",
      "when i/p is [56, 41, 46, 1] o/p is 53\n",
      "when i/p is [56, 41, 46, 1, 53] o/p is 5\n",
      "when i/p is [56, 41, 46, 1, 53, 5] o/p is 1\n",
      "when i/p is [56, 41, 46, 1, 53, 5, 1] o/p is 58\n",
      "when i/p is [56, 41, 46, 1, 53, 5, 1, 58] o/p is 46\n",
      "when i/p is [14] o/p is 33\n",
      "when i/p is [14, 33] o/p is 15\n",
      "when i/p is [14, 33, 15] o/p is 23\n",
      "when i/p is [14, 33, 15, 23] o/p is 21\n",
      "when i/p is [14, 33, 15, 23, 21] o/p is 26\n",
      "when i/p is [14, 33, 15, 23, 21, 26] o/p is 19\n",
      "when i/p is [14, 33, 15, 23, 21, 26, 19] o/p is 20\n",
      "when i/p is [14, 33, 15, 23, 21, 26, 19, 20] o/p is 13\n",
      "when i/p is [58] o/p is 46\n",
      "when i/p is [58, 46] o/p is 43\n",
      "when i/p is [58, 46, 43] o/p is 56\n",
      "when i/p is [58, 46, 43, 56] o/p is 10\n",
      "when i/p is [58, 46, 43, 56, 10] o/p is 0\n",
      "when i/p is [58, 46, 43, 56, 10, 0] o/p is 14\n",
      "when i/p is [58, 46, 43, 56, 10, 0, 14] o/p is 59\n",
      "when i/p is [58, 46, 43, 56, 10, 0, 14, 59] o/p is 58\n",
      "when i/p is [47] o/p is 60\n",
      "when i/p is [47, 60] o/p is 43\n",
      "when i/p is [47, 60, 43] o/p is 1\n",
      "when i/p is [47, 60, 43, 1] o/p is 51\n",
      "when i/p is [47, 60, 43, 1, 51] o/p is 43\n",
      "when i/p is [47, 60, 43, 1, 51, 43] o/p is 1\n",
      "when i/p is [47, 60, 43, 1, 51, 43, 1] o/p is 58\n",
      "when i/p is [47, 60, 43, 1, 51, 43, 1, 58] o/p is 46\n"
     ]
    }
   ],
   "source": [
    "for b in range(batch_size): # batch dims\n",
    "    for t in range(block_size): # time dims\n",
    "        context = xb[b, :t+1]\n",
    "        target  = yb[b, t]\n",
    "        print(f\"when i/p is {context.tolist()} o/p is {target}\")"
   ]
  },
  {
   "cell_type": "code",
   "execution_count": 46,
   "id": "f58ce605",
   "metadata": {},
   "outputs": [
    {
     "name": "stdout",
     "output_type": "stream",
     "text": [
      "tensor([[56, 41, 46,  1, 53,  5,  1, 58],\n",
      "        [14, 33, 15, 23, 21, 26, 19, 20],\n",
      "        [58, 46, 43, 56, 10,  0, 14, 59],\n",
      "        [47, 60, 43,  1, 51, 43,  1, 58]])\n"
     ]
    }
   ],
   "source": [
    "print(xb)"
   ]
  },
  {
   "cell_type": "markdown",
   "id": "f601da08",
   "metadata": {},
   "source": [
    "### Simple Bigram Model via Pytorch"
   ]
  },
  {
   "cell_type": "code",
   "execution_count": 47,
   "id": "56753cc2",
   "metadata": {},
   "outputs": [
    {
     "data": {
      "text/plain": [
       "<torch._C.Generator at 0x1735beea5b0>"
      ]
     },
     "execution_count": 47,
     "metadata": {},
     "output_type": "execute_result"
    }
   ],
   "source": [
    "import torch\n",
    "import torch.nn as nn\n",
    "from torch.nn import functional as F\n",
    "torch.manual_seed(1337)"
   ]
  },
  {
   "cell_type": "code",
   "execution_count": 59,
   "id": "46754740",
   "metadata": {},
   "outputs": [],
   "source": [
    "class BigramLanguageModel(nn.Module):\n",
    "    \n",
    "    def __init__(self, vocab_size):\n",
    "        super().__init__()\n",
    "        # each token directly reads off the logits of the next token from a lookup table\n",
    "        self.token_embedding_table = nn.Embedding(vocab_size, vocab_size)\n",
    "        \n",
    "    def forward(self, idx, targets=None): \n",
    "        # idx and targets are both (B, T) tensors of integers\n",
    "        logits = self.token_embedding_table(idx)  # (B, T, C)\n",
    "        B, T, C = logits.shape\n",
    "\n",
    "        if targets is None:\n",
    "            loss = None\n",
    "        else:\n",
    "            # flatten the logits and targets for cross-entropy\n",
    "            logits = logits.view(B * T, C)\n",
    "            targets = targets.view(B * T)\n",
    "            loss = F.cross_entropy(logits, targets)\n",
    "\n",
    "        return logits, loss\n",
    "    \n",
    "    def generate(self, idx, max_new_tokens):\n",
    "        # idx is (B, T) array of indices in the current context:\n",
    "        for _ in range(max_new_tokens):\n",
    "            # get the predictions:    \n",
    "            logits, loss = self(idx)\n",
    "            # focus only on the last time step:\n",
    "            logits = logits[:, -1, :] # becomes (B, C)\n",
    "            # apply softmax to get probablities\n",
    "            probs = F.softmax(logits, dim=1)\n",
    "            # sample from the distributions:\n",
    "            idx_next = torch.multinomial(probs, num_samples=1) # (B, 1)\n",
    "            # append sampled index to the running sequneces\n",
    "            idx = torch.cat((idx, idx_next), dim = 1) # (B, T + 1)\n",
    "        return idx "
   ]
  },
  {
   "cell_type": "code",
   "execution_count": 60,
   "id": "90a25382",
   "metadata": {},
   "outputs": [
    {
     "name": "stdout",
     "output_type": "stream",
     "text": [
      "torch.Size([32, 65])\n",
      "tensor(4.9391, grad_fn=<NllLossBackward0>)\n"
     ]
    }
   ],
   "source": [
    "m = BigramLanguageModel(vocab_size)\n",
    "logits, loss = m(xb, yb)\n",
    "print(logits.shape)\n",
    "print(loss)"
   ]
  },
  {
   "cell_type": "code",
   "execution_count": 61,
   "id": "ad7a92fe",
   "metadata": {},
   "outputs": [
    {
     "name": "stdout",
     "output_type": "stream",
     "text": [
      "\n",
      "AZHrAnTpolp-T-KlJe;PhLhgHRhCrwNtKg-H,$U!jElipJX-ZfdUo?UVvCe;AJaRZdp-,,zOIc\n",
      "hup!I\n",
      "OMVBhXKqHnTY&dibW v\n"
     ]
    }
   ],
   "source": [
    "\n",
    "print(decode(m.generate(idx = torch.zeros((1, 1), dtype=torch.long), max_new_tokens=100)[0].tolist()))"
   ]
  },
  {
   "cell_type": "code",
   "execution_count": null,
   "id": "2cd7607a",
   "metadata": {},
   "outputs": [],
   "source": []
  }
 ],
 "metadata": {
  "kernelspec": {
   "display_name": "llm101",
   "language": "python",
   "name": "python3"
  },
  "language_info": {
   "codemirror_mode": {
    "name": "ipython",
    "version": 3
   },
   "file_extension": ".py",
   "mimetype": "text/x-python",
   "name": "python",
   "nbconvert_exporter": "python",
   "pygments_lexer": "ipython3",
   "version": "3.11.12"
  }
 },
 "nbformat": 4,
 "nbformat_minor": 5
}
